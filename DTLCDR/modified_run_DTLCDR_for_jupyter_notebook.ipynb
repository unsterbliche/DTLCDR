{
  "cells": [
    {
      "cell_type": "code",
      "source": [
        "# 安装必要的库\n",
        "!pip install numpy pandas torch scikit-learn scipy prettytable rdkit matplotlib\n",
        "\n",
        "!pip install torch==1.8.0+cu111 torchvision==0.9.0+cu111 torchaudio==0.8.0 -f https://download.pytorch.org/whl/torch_stable.html\n",
        "!pip install torch_geometric\n",
        "!conda install cudatoolkit==11.1\n",
        "!pip install --pre dgl==0.6.1 -f https://data.dgl.ai/wheels/repo.html -i  https://pypi.tuna.tsinghua.edu.cn/simple\n",
        "\n",
        "\n",
        "# 可选：如果遇到 rdkit 安装问题，可以尝试以下命令\n",
        "# !pip install -q condacolab\n",
        "# import condacolab\n",
        "# condacolab.install()\n",
        "# !conda install -c conda-forge rdkit -y\n"
      ],
      "metadata": {
        "colab": {
          "base_uri": "https://localhost:8080/"
        },
        "id": "6rslPjxAlFj6",
        "outputId": "ccc8c540-340e-4b87-b19c-1bd985ea8462"
      },
      "id": "6rslPjxAlFj6",
      "execution_count": 11,
      "outputs": [
        {
          "output_type": "stream",
          "name": "stdout",
          "text": [
            "Requirement already satisfied: numpy in /usr/local/lib/python3.12/dist-packages (2.0.2)\n",
            "Requirement already satisfied: pandas in /usr/local/lib/python3.12/dist-packages (2.2.2)\n",
            "Requirement already satisfied: torch in /usr/local/lib/python3.12/dist-packages (2.8.0+cu126)\n",
            "Requirement already satisfied: scikit-learn in /usr/local/lib/python3.12/dist-packages (1.6.1)\n",
            "Requirement already satisfied: scipy in /usr/local/lib/python3.12/dist-packages (1.16.2)\n",
            "Requirement already satisfied: prettytable in /usr/local/lib/python3.12/dist-packages (3.16.0)\n",
            "Requirement already satisfied: rdkit in /usr/local/lib/python3.12/dist-packages (2025.9.1)\n",
            "Requirement already satisfied: matplotlib in /usr/local/lib/python3.12/dist-packages (3.10.0)\n",
            "Requirement already satisfied: python-dateutil>=2.8.2 in /usr/local/lib/python3.12/dist-packages (from pandas) (2.9.0.post0)\n",
            "Requirement already satisfied: pytz>=2020.1 in /usr/local/lib/python3.12/dist-packages (from pandas) (2025.2)\n",
            "Requirement already satisfied: tzdata>=2022.7 in /usr/local/lib/python3.12/dist-packages (from pandas) (2025.2)\n",
            "Requirement already satisfied: filelock in /usr/local/lib/python3.12/dist-packages (from torch) (3.20.0)\n",
            "Requirement already satisfied: typing-extensions>=4.10.0 in /usr/local/lib/python3.12/dist-packages (from torch) (4.15.0)\n",
            "Requirement already satisfied: setuptools in /usr/local/lib/python3.12/dist-packages (from torch) (75.2.0)\n",
            "Requirement already satisfied: sympy>=1.13.3 in /usr/local/lib/python3.12/dist-packages (from torch) (1.13.3)\n",
            "Requirement already satisfied: networkx in /usr/local/lib/python3.12/dist-packages (from torch) (3.5)\n",
            "Requirement already satisfied: jinja2 in /usr/local/lib/python3.12/dist-packages (from torch) (3.1.6)\n",
            "Requirement already satisfied: fsspec in /usr/local/lib/python3.12/dist-packages (from torch) (2025.3.0)\n",
            "Requirement already satisfied: nvidia-cuda-nvrtc-cu12==12.6.77 in /usr/local/lib/python3.12/dist-packages (from torch) (12.6.77)\n",
            "Requirement already satisfied: nvidia-cuda-runtime-cu12==12.6.77 in /usr/local/lib/python3.12/dist-packages (from torch) (12.6.77)\n",
            "Requirement already satisfied: nvidia-cuda-cupti-cu12==12.6.80 in /usr/local/lib/python3.12/dist-packages (from torch) (12.6.80)\n",
            "Requirement already satisfied: nvidia-cudnn-cu12==9.10.2.21 in /usr/local/lib/python3.12/dist-packages (from torch) (9.10.2.21)\n",
            "Requirement already satisfied: nvidia-cublas-cu12==12.6.4.1 in /usr/local/lib/python3.12/dist-packages (from torch) (12.6.4.1)\n",
            "Requirement already satisfied: nvidia-cufft-cu12==11.3.0.4 in /usr/local/lib/python3.12/dist-packages (from torch) (11.3.0.4)\n",
            "Requirement already satisfied: nvidia-curand-cu12==10.3.7.77 in /usr/local/lib/python3.12/dist-packages (from torch) (10.3.7.77)\n",
            "Requirement already satisfied: nvidia-cusolver-cu12==11.7.1.2 in /usr/local/lib/python3.12/dist-packages (from torch) (11.7.1.2)\n",
            "Requirement already satisfied: nvidia-cusparse-cu12==12.5.4.2 in /usr/local/lib/python3.12/dist-packages (from torch) (12.5.4.2)\n",
            "Requirement already satisfied: nvidia-cusparselt-cu12==0.7.1 in /usr/local/lib/python3.12/dist-packages (from torch) (0.7.1)\n",
            "Requirement already satisfied: nvidia-nccl-cu12==2.27.3 in /usr/local/lib/python3.12/dist-packages (from torch) (2.27.3)\n",
            "Requirement already satisfied: nvidia-nvtx-cu12==12.6.77 in /usr/local/lib/python3.12/dist-packages (from torch) (12.6.77)\n",
            "Requirement already satisfied: nvidia-nvjitlink-cu12==12.6.85 in /usr/local/lib/python3.12/dist-packages (from torch) (12.6.85)\n",
            "Requirement already satisfied: nvidia-cufile-cu12==1.11.1.6 in /usr/local/lib/python3.12/dist-packages (from torch) (1.11.1.6)\n",
            "Requirement already satisfied: triton==3.4.0 in /usr/local/lib/python3.12/dist-packages (from torch) (3.4.0)\n",
            "Requirement already satisfied: joblib>=1.2.0 in /usr/local/lib/python3.12/dist-packages (from scikit-learn) (1.5.2)\n",
            "Requirement already satisfied: threadpoolctl>=3.1.0 in /usr/local/lib/python3.12/dist-packages (from scikit-learn) (3.6.0)\n",
            "Requirement already satisfied: wcwidth in /usr/local/lib/python3.12/dist-packages (from prettytable) (0.2.14)\n",
            "Requirement already satisfied: Pillow in /usr/local/lib/python3.12/dist-packages (from rdkit) (11.3.0)\n",
            "Requirement already satisfied: contourpy>=1.0.1 in /usr/local/lib/python3.12/dist-packages (from matplotlib) (1.3.3)\n",
            "Requirement already satisfied: cycler>=0.10 in /usr/local/lib/python3.12/dist-packages (from matplotlib) (0.12.1)\n",
            "Requirement already satisfied: fonttools>=4.22.0 in /usr/local/lib/python3.12/dist-packages (from matplotlib) (4.60.1)\n",
            "Requirement already satisfied: kiwisolver>=1.3.1 in /usr/local/lib/python3.12/dist-packages (from matplotlib) (1.4.9)\n",
            "Requirement already satisfied: packaging>=20.0 in /usr/local/lib/python3.12/dist-packages (from matplotlib) (25.0)\n",
            "Requirement already satisfied: pyparsing>=2.3.1 in /usr/local/lib/python3.12/dist-packages (from matplotlib) (3.2.5)\n",
            "Requirement already satisfied: six>=1.5 in /usr/local/lib/python3.12/dist-packages (from python-dateutil>=2.8.2->pandas) (1.17.0)\n",
            "Requirement already satisfied: mpmath<1.4,>=1.1.0 in /usr/local/lib/python3.12/dist-packages (from sympy>=1.13.3->torch) (1.3.0)\n",
            "Requirement already satisfied: MarkupSafe>=2.0 in /usr/local/lib/python3.12/dist-packages (from jinja2->torch) (3.0.3)\n",
            "Looking in links: https://download.pytorch.org/whl/torch_stable.html\n",
            "\u001b[31mERROR: Could not find a version that satisfies the requirement torch==1.8.0+cu111 (from versions: 2.2.0, 2.2.0+cpu, 2.2.0+cpu.cxx11.abi, 2.2.0+cu118, 2.2.0+cu121, 2.2.0+rocm5.6, 2.2.0+rocm5.7, 2.2.1, 2.2.1+cpu, 2.2.1+cpu.cxx11.abi, 2.2.1+cu118, 2.2.1+cu121, 2.2.1+rocm5.6, 2.2.1+rocm5.7, 2.2.2, 2.2.2+cpu, 2.2.2+cpu.cxx11.abi, 2.2.2+cu118, 2.2.2+cu121, 2.2.2+rocm5.6, 2.2.2+rocm5.7, 2.3.0, 2.3.0+cpu, 2.3.0+cpu.cxx11.abi, 2.3.0+cu118, 2.3.0+cu121, 2.3.0+rocm5.7, 2.3.0+rocm6.0, 2.3.1, 2.3.1+cpu, 2.3.1+cpu.cxx11.abi, 2.3.1+cu118, 2.3.1+cu121, 2.3.1+rocm5.7, 2.3.1+rocm6.0, 2.4.0, 2.4.1, 2.5.0, 2.5.1, 2.6.0, 2.7.0, 2.7.1, 2.8.0)\u001b[0m\u001b[31m\n",
            "\u001b[0m\u001b[31mERROR: No matching distribution found for torch==1.8.0+cu111\u001b[0m\u001b[31m\n",
            "\u001b[0mCollecting torch_geometric\n",
            "  Downloading torch_geometric-2.6.1-py3-none-any.whl.metadata (63 kB)\n",
            "\u001b[2K     \u001b[90m━━━━━━━━━━━━━━━━━━━━━━━━━━━━━━━━━━━━━━━━\u001b[0m \u001b[32m63.1/63.1 kB\u001b[0m \u001b[31m4.7 MB/s\u001b[0m eta \u001b[36m0:00:00\u001b[0m\n",
            "\u001b[?25hRequirement already satisfied: aiohttp in /usr/local/lib/python3.12/dist-packages (from torch_geometric) (3.13.0)\n",
            "Requirement already satisfied: fsspec in /usr/local/lib/python3.12/dist-packages (from torch_geometric) (2025.3.0)\n",
            "Requirement already satisfied: jinja2 in /usr/local/lib/python3.12/dist-packages (from torch_geometric) (3.1.6)\n",
            "Requirement already satisfied: numpy in /usr/local/lib/python3.12/dist-packages (from torch_geometric) (2.0.2)\n",
            "Requirement already satisfied: psutil>=5.8.0 in /usr/local/lib/python3.12/dist-packages (from torch_geometric) (5.9.5)\n",
            "Requirement already satisfied: pyparsing in /usr/local/lib/python3.12/dist-packages (from torch_geometric) (3.2.5)\n",
            "Requirement already satisfied: requests in /usr/local/lib/python3.12/dist-packages (from torch_geometric) (2.32.4)\n",
            "Requirement already satisfied: tqdm in /usr/local/lib/python3.12/dist-packages (from torch_geometric) (4.67.1)\n",
            "Requirement already satisfied: aiohappyeyeballs>=2.5.0 in /usr/local/lib/python3.12/dist-packages (from aiohttp->torch_geometric) (2.6.1)\n",
            "Requirement already satisfied: aiosignal>=1.4.0 in /usr/local/lib/python3.12/dist-packages (from aiohttp->torch_geometric) (1.4.0)\n",
            "Requirement already satisfied: attrs>=17.3.0 in /usr/local/lib/python3.12/dist-packages (from aiohttp->torch_geometric) (25.4.0)\n",
            "Requirement already satisfied: frozenlist>=1.1.1 in /usr/local/lib/python3.12/dist-packages (from aiohttp->torch_geometric) (1.8.0)\n",
            "Requirement already satisfied: multidict<7.0,>=4.5 in /usr/local/lib/python3.12/dist-packages (from aiohttp->torch_geometric) (6.7.0)\n",
            "Requirement already satisfied: propcache>=0.2.0 in /usr/local/lib/python3.12/dist-packages (from aiohttp->torch_geometric) (0.3.2)\n",
            "Requirement already satisfied: yarl<2.0,>=1.17.0 in /usr/local/lib/python3.12/dist-packages (from aiohttp->torch_geometric) (1.22.0)\n",
            "Requirement already satisfied: MarkupSafe>=2.0 in /usr/local/lib/python3.12/dist-packages (from jinja2->torch_geometric) (3.0.3)\n",
            "Requirement already satisfied: charset_normalizer<4,>=2 in /usr/local/lib/python3.12/dist-packages (from requests->torch_geometric) (3.4.3)\n",
            "Requirement already satisfied: idna<4,>=2.5 in /usr/local/lib/python3.12/dist-packages (from requests->torch_geometric) (3.10)\n",
            "Requirement already satisfied: urllib3<3,>=1.21.1 in /usr/local/lib/python3.12/dist-packages (from requests->torch_geometric) (2.5.0)\n",
            "Requirement already satisfied: certifi>=2017.4.17 in /usr/local/lib/python3.12/dist-packages (from requests->torch_geometric) (2025.10.5)\n",
            "Requirement already satisfied: typing-extensions>=4.2 in /usr/local/lib/python3.12/dist-packages (from aiosignal>=1.4.0->aiohttp->torch_geometric) (4.15.0)\n",
            "Downloading torch_geometric-2.6.1-py3-none-any.whl (1.1 MB)\n",
            "\u001b[2K   \u001b[90m━━━━━━━━━━━━━━━━━━━━━━━━━━━━━━━━━━━━━━━━\u001b[0m \u001b[32m1.1/1.1 MB\u001b[0m \u001b[31m43.8 MB/s\u001b[0m eta \u001b[36m0:00:00\u001b[0m\n",
            "\u001b[?25hInstalling collected packages: torch_geometric\n",
            "Successfully installed torch_geometric-2.6.1\n",
            "/bin/bash: line 1: conda: command not found\n",
            "Looking in indexes: https://pypi.tuna.tsinghua.edu.cn/simple\n",
            "Looking in links: https://data.dgl.ai/wheels/repo.html\n",
            "\u001b[31mERROR: Could not find a version that satisfies the requirement dgl==0.6.1 (from versions: 0.1.0, 0.1.2, 0.1.3, 2.1.0)\u001b[0m\u001b[31m\n",
            "\u001b[0m\u001b[31mERROR: No matching distribution found for dgl==0.6.1\u001b[0m\u001b[31m\n",
            "\u001b[0m"
          ]
        }
      ]
    },
    {
      "cell_type": "code",
      "execution_count": 3,
      "id": "d1dd4994",
      "metadata": {
        "id": "d1dd4994"
      },
      "outputs": [],
      "source": [
        "\n",
        "# 导入必要的库\n",
        "import numpy as np\n",
        "import pandas as pd\n",
        "import torch\n",
        "import os\n",
        "import time\n",
        "import pickle\n",
        "from torch.utils.data import DataLoader\n",
        "from sklearn.model_selection import KFold\n",
        "from sklearn.metrics import mean_squared_error, r2_score, mean_absolute_error\n",
        "from scipy.stats import pearsonr, spearmanr\n",
        "from prettytable import PrettyTable\n",
        "import rdkit\n",
        "from rdkit.Chem import Descriptors\n",
        "from rdkit.ML.Descriptors import MoleculeDescriptors\n",
        "from sklearn.preprocessing import MinMaxScaler\n",
        "import matplotlib.pyplot as plt\n"
      ]
    },
    {
      "cell_type": "code",
      "source": [
        "!git clone https://github.com/unsterbliche/DTLCDR.git\n",
        "# 导入克隆的仓库中的 Python 文件\n",
        "import sys\n",
        "sys.path.append('/content/DTLCDR/DTLCDR')  # 添加仓库路径到系统路径\n",
        "os.chdir('/content/DTLCDR/DTLCDR')"
      ],
      "metadata": {
        "colab": {
          "base_uri": "https://localhost:8080/"
        },
        "id": "4f9PbHKumPoE",
        "outputId": "54a0dc40-4c7c-4ca5-a862-19010b892866"
      },
      "id": "4f9PbHKumPoE",
      "execution_count": 8,
      "outputs": [
        {
          "output_type": "stream",
          "name": "stdout",
          "text": [
            "fatal: destination path 'DTLCDR' already exists and is not an empty directory.\n"
          ]
        }
      ]
    },
    {
      "cell_type": "code",
      "source": [
        "!wget https://www.cancerrxgene.org/gdsc1000/GDSC1000_WebResources/Data/preprocessed/Cell_line_RMA_proc_basalExp.txt.zip\n"
      ],
      "metadata": {
        "colab": {
          "base_uri": "https://localhost:8080/"
        },
        "id": "sojBZ58cpMJL",
        "outputId": "b842cf50-9989-4b93-8dbf-16bac3247d00"
      },
      "id": "sojBZ58cpMJL",
      "execution_count": 17,
      "outputs": [
        {
          "output_type": "stream",
          "name": "stdout",
          "text": [
            "--2025-10-15 07:07:54--  https://www.cancerrxgene.org/gdsc1000/GDSC1000_WebResources/Data/preprocessed/Cell_line_RMA_proc_basalExp.txt.zip\n",
            "Resolving www.cancerrxgene.org (www.cancerrxgene.org)... 193.62.203.105, 193.62.203.106, 2001:630:206:4::105, ...\n",
            "Connecting to www.cancerrxgene.org (www.cancerrxgene.org)|193.62.203.105|:443... connected.\n",
            "HTTP request sent, awaiting response... 200 OK\n",
            "Length: 142765551 (136M) [application/zip]\n",
            "Saving to: ‘Cell_line_RMA_proc_basalExp.txt.zip’\n",
            "\n",
            "Cell_line_RMA_proc_ 100%[===================>] 136.15M  32.6MB/s    in 4.7s    \n",
            "\n",
            "2025-10-15 07:08:00 (29.2 MB/s) - ‘Cell_line_RMA_proc_basalExp.txt.zip’ saved [142765551/142765551]\n",
            "\n"
          ]
        }
      ]
    },
    {
      "cell_type": "code",
      "source": [
        "!wget https://raw.githubusercontent.com/jingcheng-du/Gene2vec/master/pre_trained_emb/gene2vec_dim_200_iter_9.txt\n"
      ],
      "metadata": {
        "colab": {
          "base_uri": "https://localhost:8080/"
        },
        "id": "2MdcFS9EsqPr",
        "outputId": "4ab46faf-5012-4dc6-e643-c107429063cd"
      },
      "id": "2MdcFS9EsqPr",
      "execution_count": 18,
      "outputs": [
        {
          "output_type": "stream",
          "name": "stdout",
          "text": [
            "--2025-10-15 07:08:13--  https://raw.githubusercontent.com/jingcheng-du/Gene2vec/master/pre_trained_emb/gene2vec_dim_200_iter_9.txt\n",
            "Resolving raw.githubusercontent.com (raw.githubusercontent.com)... 185.199.108.133, 185.199.109.133, 185.199.110.133, ...\n",
            "Connecting to raw.githubusercontent.com (raw.githubusercontent.com)|185.199.108.133|:443... connected.\n",
            "HTTP request sent, awaiting response... 200 OK\n",
            "Length: 56682049 (54M) [text/plain]\n",
            "Saving to: ‘gene2vec_dim_200_iter_9.txt’\n",
            "\n",
            "gene2vec_dim_200_it 100%[===================>]  54.06M  --.-KB/s    in 0.1s    \n",
            "\n",
            "2025-10-15 07:08:13 (496 MB/s) - ‘gene2vec_dim_200_iter_9.txt’ saved [56682049/56682049]\n",
            "\n"
          ]
        }
      ]
    },
    {
      "cell_type": "code",
      "execution_count": 22,
      "id": "31fff043",
      "metadata": {
        "id": "31fff043"
      },
      "outputs": [],
      "source": [
        "\n",
        "# 预设参数，替代原 argparse 传参方式\n",
        "device = 'cuda:0'  # 可以改为 'cpu' 选择设备\n",
        "epoch = 100\n",
        "model_name = 'DTLCDR'  # 模型名称\n",
        "split_type = 'warmstart'  # 数据拆分方式，可以选择 'warmstart', 'cellcoldstart', 'drugcoldstart'\n"
      ]
    },
    {
      "cell_type": "code",
      "execution_count": 9,
      "id": "8e6788bb",
      "metadata": {
        "id": "8e6788bb"
      },
      "outputs": [],
      "source": [
        "\n",
        "# 细胞数据处理类\n",
        "class process_cell():\n",
        "    def __init__(self):\n",
        "        # 初始化细胞表达和编码数据路径\n",
        "        self.cell_encoder = './process_data/exp_enc.csv'\n",
        "        self.cell_expression = './process_data/exp.csv'\n",
        "\n",
        "    # 获取细胞数据\n",
        "    def get_celldata(self, data):\n",
        "        cellid = list(data['COSMIC_ID'])\n",
        "        enc_data = pd.read_csv(self.cell_encoder, index_col=0)\n",
        "        exp_data = pd.read_csv(self.cell_expression, index_col=0)\n",
        "        encdata = enc_data.loc[cellid]\n",
        "        expdata = exp_data.loc[cellid]\n",
        "        return encdata, expdata\n"
      ]
    },
    {
      "cell_type": "code",
      "execution_count": 19,
      "id": "e1309e8e",
      "metadata": {
        "colab": {
          "base_uri": "https://localhost:8080/"
        },
        "id": "e1309e8e",
        "outputId": "5879730a-55c6-4484-80e3-f7755a9de38d"
      },
      "outputs": [
        {
          "output_type": "stream",
          "name": "stderr",
          "text": [
            "/tmp/ipython-input-58260969.py:10: ParserWarning: Falling back to the 'python' engine because the 'c' engine does not support regex separators (separators > 1 char and different from '\\s+' are interpreted as regex); you can avoid this warning by specifying engine='python'.\n",
            "  gene2vec_dim_200_iter_9 = pd.read_csv('./gene2vec_dim_200_iter_9.txt', sep='\t| ', header=None)\n"
          ]
        }
      ],
      "source": [
        "\n",
        "# 预测数据加载\n",
        "pred_dti_gdsc2 = pd.read_csv('../GCADTI/pred_dti_gdsc.csv', index_col=0)\n",
        "pred_dti = []\n",
        "for i in range(len(pred_dti_gdsc2.smiles.unique())):\n",
        "    pred_dti.append(pred_dti_gdsc2[i*1572:(i+1)*1572].label.tolist())\n",
        "pred_dti = pd.DataFrame(pred_dti)\n",
        "pred_dti.index = pred_dti_gdsc2.smiles.unique().tolist()\n",
        "\n",
        "# 加载 Gene2Vec 数据\n",
        "gene2vec_dim_200_iter_9 = pd.read_csv('./gene2vec_dim_200_iter_9.txt', sep='\t| ', header=None)\n",
        "gene2vec_dim_200_iter_9.index = gene2vec_dim_200_iter_9[0]\n",
        "gene2vec_dim_200_iter_9 = gene2vec_dim_200_iter_9.loc[:, 1:]\n",
        "gene = pd.read_csv('./process_data/exp_enc.csv', index_col=0)\n",
        "col = gene.columns\n",
        "np.save('gene2vec_595.npy', np.vstack([np.array(gene2vec_dim_200_iter_9.loc[col]), np.zeros([16906-595, 200])]))\n"
      ]
    },
    {
      "cell_type": "code",
      "execution_count": 21,
      "id": "ce1d0228",
      "metadata": {
        "colab": {
          "base_uri": "https://localhost:8080/",
          "height": 224
        },
        "id": "ce1d0228",
        "outputId": "d916055d-4009-4a8e-ef17-34b32356a13a"
      },
      "outputs": [
        {
          "output_type": "error",
          "ename": "NameError",
          "evalue": "name 'DTLCDR' is not defined",
          "traceback": [
            "\u001b[0;31m---------------------------------------------------------------------------\u001b[0m",
            "\u001b[0;31mNameError\u001b[0m                                 Traceback (most recent call last)",
            "\u001b[0;32m/tmp/ipython-input-3535270879.py\u001b[0m in \u001b[0;36m<cell line: 0>\u001b[0;34m()\u001b[0m\n\u001b[1;32m      1\u001b[0m \u001b[0;31m# 模型字典初始化\u001b[0m\u001b[0;34m\u001b[0m\u001b[0;34m\u001b[0m\u001b[0m\n\u001b[0;32m----> 2\u001b[0;31m modeldict = {'DTLCDR': DTLCDR, 'DTLCDR_cellenc': DTLCDR_cellenc, 'DTLCDR_cellexp': DTLCDR_cellexp, 'DTLCDR_drugdti': DTLCDR_drugdti,\n\u001b[0m\u001b[1;32m      3\u001b[0m              'DTLCDR_drugGIN': DTLCDR_drugGIN, 'DTLCDR_drugdesc': DTLCDR_drugdesc}\n",
            "\u001b[0;31mNameError\u001b[0m: name 'DTLCDR' is not defined"
          ]
        }
      ],
      "source": [
        "\n",
        "# 模型字典初始化\n",
        "modeldict = {'DTLCDR': DTLCDR, 'DTLCDR_cellenc': DTLCDR_cellenc, 'DTLCDR_cellexp': DTLCDR_cellexp, 'DTLCDR_drugdti': DTLCDR_drugdti,\n",
        "             'DTLCDR_drugGIN': DTLCDR_drugGIN, 'DTLCDR_drugdesc': DTLCDR_drugdesc}\n"
      ]
    },
    {
      "cell_type": "code",
      "execution_count": null,
      "id": "44b7bbf9",
      "metadata": {
        "id": "44b7bbf9"
      },
      "outputs": [],
      "source": [
        "\n",
        "# 模型类\n",
        "class Model:\n",
        "    def __init__(self, modeldir, model, kfold, device, epoch):\n",
        "        self.model = modeldict[model](pred_dti.shape[1], 596, './gene2vec_595.npy', 3000)\n",
        "        self.model._build()\n",
        "        self.device = torch.device(device)\n",
        "        self.modeldir = modeldir\n",
        "        self.kfold = kfold\n",
        "        self.epoch = epoch\n",
        "        self.record_fileval = os.path.join(self.modeldir, \"valid_markdowntable.txt\")\n",
        "        self.record_filetest = os.path.join(self.modeldir, str(self.kfold) + '.txt')\n",
        "        self.pkl_file = os.path.join(self.modeldir, \"loss_curve_iter.pkl\")\n",
        "        self.val_pkl_file = os.path.join(self.modeldir, \"val_loss_curve_iter.pkl\")\n",
        "        self.val_loss_history = []\n",
        "\n",
        "    # 测试函数，返回预测结果与真实值的相关统计\n",
        "    def test(self, datagenerator, model, mode=None):\n",
        "        y_label = []\n",
        "        y_pred = []\n",
        "        loss_s = 0\n",
        "        model.eval()\n",
        "\n",
        "        for i, data in enumerate(datagenerator):\n",
        "            drug_graph = data[0].to(self.device)\n",
        "            drug_dti = data[1].to(self.device)\n",
        "            drug_desc = data[2].to(self.device)\n",
        "            cell_enc = data[3].to(self.device)\n",
        "            cell_exp = data[4].to(self.device)\n",
        "            label = data[5].to(self.device)\n",
        "\n",
        "            score = model(drug_graph, drug_dti, drug_desc, cell_enc, cell_exp)\n",
        "            loss_fct = torch.nn.MSELoss()\n",
        "            score = torch.squeeze(score, 1)\n",
        "            loss = loss_fct(score, label)\n",
        "            self.val_loss_history.append(loss.item())\n",
        "            logits = score.detach().cpu().numpy()\n",
        "            label_ids = label.to('cpu').numpy()\n",
        "            y_label += label_ids.flatten().tolist()\n",
        "            y_pred += logits.flatten().tolist()\n",
        "            loss_s += loss\n",
        "\n",
        "        loss_m = loss_s / (i + 1)\n",
        "        pcc = pearsonr(y_label, y_pred)[0]\n",
        "        spm = spearmanr(y_label, y_pred)[0]\n",
        "        mse = mean_squared_error(y_label, y_pred)\n",
        "        r2 = r2_score(y_label, y_pred)\n",
        "        mae = mean_absolute_error(y_label, y_pred)\n",
        "        model.train()\n",
        "\n",
        "        if mode == 'val':\n",
        "            return loss_m, np.sqrt(mse), mse, pcc, spm, r2, mae\n",
        "        elif mode == 'test':\n",
        "            return loss_m, np.sqrt(mse), mse, pcc, spm, r2, mae\n",
        "        elif mode == 'predict':\n",
        "            return y_label, y_pred\n"
      ]
    },
    {
      "cell_type": "code",
      "execution_count": null,
      "id": "de73ba49",
      "metadata": {
        "id": "de73ba49"
      },
      "outputs": [],
      "source": [
        "\n",
        "# 训练函数\n",
        "    def train(self, trainset, valset, testset):\n",
        "        lr = 1e-4\n",
        "        BATCH_SIZE = 64\n",
        "        train_epoch = self.epoch\n",
        "        self.model = self.model.to(self.device)\n",
        "        opt = torch.optim.Adam(self.model.parameters(), lr=lr)\n",
        "        loss_history = []\n",
        "\n",
        "        collate_fn = DRPCollator()\n",
        "        trainparams = {'batch_size': BATCH_SIZE, 'shuffle': True, 'num_workers': 4, 'drop_last': True, 'pin_memory': True, \"collate_fn\": collate_fn}\n",
        "        training_generator = DataLoader(trainset, **trainparams)\n",
        "        valtestparams = {'batch_size': BATCH_SIZE, 'shuffle': False, 'num_workers': 4, 'drop_last': False, 'pin_memory': True, \"collate_fn\": collate_fn}\n",
        "        validation_generator = DataLoader(valset, **valtestparams)\n",
        "        testing_generator = DataLoader(testset, **valtestparams)\n",
        "\n",
        "        best_loss = 10000\n",
        "        model_max = copy.deepcopy(self.model)\n",
        "\n",
        "        valid_metric_record = []\n",
        "        valid_metric_header = ['# epoch', \"loss\", 'rmse_val', 'mse_val', 'pcc_val', 'spm_val', 'r2_val', 'mae_val']\n",
        "\n",
        "        # 训练循环\n",
        "        for epo in range(train_epoch):\n",
        "            for i, data in enumerate(training_generator):\n",
        "                drug_graph = data[0].to(self.device)\n",
        "                drug_dti = data[1].to(self.device)\n",
        "                drug_desc = data[2].to(self.device)\n",
        "                cell_enc = data[3].to(self.device)\n",
        "                cell_exp = data[4].to(self.device)\n",
        "                label = data[5].to(self.device)\n",
        "\n",
        "                score = self.model(drug_graph, drug_dti, drug_desc, cell_enc, cell_exp)\n",
        "                loss_fct = torch.nn.MSELoss()\n",
        "                score = torch.squeeze(score, 1)\n",
        "                loss = loss_fct(score, label)\n",
        "                loss_history.append(loss.item())\n",
        "                opt.zero_grad()\n",
        "                loss.backward()\n",
        "                opt.step()\n",
        "\n",
        "                if i % 1000 == 0:\n",
        "                    print(f'Epoch {epo + 1}, Iteration {i}, Loss: {loss.item()}')\n",
        "\n",
        "            with torch.no_grad():\n",
        "                loss_val, rmse_val, mse_val, pcc_val, spm_val, r2_val, mae_val = self.test(validation_generator, self.model, mode='val')\n",
        "                valid_metric_record.append([f\"Epoch {epo + 1}\", loss_val, rmse_val, mse_val, pcc_val, spm_val, r2_val, mae_val])\n",
        "\n",
        "            if loss_val <= best_loss:\n",
        "                model_max = copy.deepcopy(self.model)\n",
        "                best_loss = loss_val\n",
        "\n",
        "        self.model = model_max\n",
        "        print('Training finished')\n",
        "        return valid_metric_record\n"
      ]
    },
    {
      "cell_type": "code",
      "execution_count": null,
      "id": "d2d5765d",
      "metadata": {
        "id": "d2d5765d"
      },
      "outputs": [],
      "source": [
        "\n",
        "# 预测函数\n",
        "    def predict(self, dataset):\n",
        "        self.model = self.model.to(self.device)\n",
        "        collate_fn = DRPCollator()\n",
        "        params = {'batch_size': 128, 'shuffle': False, 'num_workers': 2, 'drop_last': False, \"collate_fn\": collate_fn}\n",
        "        generator = DataLoader(dataset, **params)\n",
        "        y_label, y_pred = self.test(generator, self.model, mode='predict')\n",
        "        return y_label, y_pred\n",
        "\n",
        "# 执行示例\n",
        "# 预备训练数据集\n",
        "modeldir = './model_warmstart/'\n",
        "if not os.path.exists(modeldir):\n",
        "    os.mkdir(modeldir)\n",
        "\n",
        "# 初始化并训练模型\n",
        "net = Model(modeldir=modeldir, model=model_name, kfold=1, device=device, epoch=epoch)\n",
        "valid_metrics = net.train(train_set, val_set, test_set)\n",
        "\n",
        "# 打印训练结果\n",
        "for metric in valid_metrics:\n",
        "    print(metric)\n"
      ]
    }
  ],
  "metadata": {
    "colab": {
      "provenance": []
    },
    "language_info": {
      "name": "python"
    },
    "kernelspec": {
      "name": "python3",
      "display_name": "Python 3"
    }
  },
  "nbformat": 4,
  "nbformat_minor": 5
}